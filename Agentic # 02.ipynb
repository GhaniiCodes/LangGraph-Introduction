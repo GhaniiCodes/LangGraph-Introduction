{
 "cells": [
  {
   "cell_type": "code",
   "execution_count": 2,
   "id": "44a17285",
   "metadata": {},
   "outputs": [],
   "source": [
    "from typing import TypedDict\n",
    "import os \n",
    "from dotenv import load_dotenv\n",
    "from langgraph.graph import StateGraph, START, END\n",
    "from langchain_groq import ChatGroq\n",
    "from langchain.memory import ConversationBufferMemory\n",
    "from langchain.chains import ConversationChain"
   ]
  },
  {
   "cell_type": "code",
   "execution_count": 3,
   "id": "01d9e6b2",
   "metadata": {},
   "outputs": [
    {
     "data": {
      "text/plain": [
       "True"
      ]
     },
     "execution_count": 3,
     "metadata": {},
     "output_type": "execute_result"
    }
   ],
   "source": [
    "load_dotenv(r\"D:\\PYTHON\\Agentic AI\\.ENV FILES\\.env\")"
   ]
  },
  {
   "cell_type": "code",
   "execution_count": 4,
   "id": "2d017e52",
   "metadata": {},
   "outputs": [],
   "source": [
    "GROQ_Key = os.getenv(\"GROQ_API_KEY\")"
   ]
  },
  {
   "cell_type": "code",
   "execution_count": 5,
   "id": "4f20d961",
   "metadata": {},
   "outputs": [],
   "source": [
    "Model = ChatGroq(model= \"llama-3.1-8b-instant\", api_key= GROQ_Key)"
   ]
  },
  {
   "cell_type": "code",
   "execution_count": 6,
   "id": "6fb23105",
   "metadata": {},
   "outputs": [
    {
     "name": "stderr",
     "output_type": "stream",
     "text": [
      "C:\\Users\\DELL\\AppData\\Local\\Temp\\ipykernel_7940\\1434587359.py:1: LangChainDeprecationWarning: Please see the migration guide at: https://python.langchain.com/docs/versions/migrating_memory/\n",
      "  Memory = ConversationBufferMemory(return_messages=True)\n"
     ]
    }
   ],
   "source": [
    "Memory = ConversationBufferMemory(return_messages=True)"
   ]
  },
  {
   "cell_type": "code",
   "execution_count": 7,
   "id": "cfef4026",
   "metadata": {},
   "outputs": [
    {
     "name": "stderr",
     "output_type": "stream",
     "text": [
      "C:\\Users\\DELL\\AppData\\Local\\Temp\\ipykernel_7940\\1905820830.py:1: LangChainDeprecationWarning: The class `ConversationChain` was deprecated in LangChain 0.2.7 and will be removed in 1.0. Use :class:`~langchain_core.runnables.history.RunnableWithMessageHistory` instead.\n",
      "  Conversation_Chain = ConversationChain(llm = Model,\n"
     ]
    }
   ],
   "source": [
    "Conversation_Chain = ConversationChain(llm = Model, \n",
    "                                       memory = Memory)"
   ]
  },
  {
   "cell_type": "code",
   "execution_count": 9,
   "id": "7f07244d",
   "metadata": {},
   "outputs": [],
   "source": [
    "class AgentState(TypedDict):\n",
    "    input: str\n",
    "    output: str\n",
    "\n",
    "def chat_node(state: AgentState) -> AgentState:\n",
    "    response = Conversation_Chain.predict(input=state[\"input\"])\n",
    "    return {\"input\": state[\"input\"], \"output\": response}\n"
   ]
  },
  {
   "cell_type": "code",
   "execution_count": 10,
   "id": "218cec11",
   "metadata": {},
   "outputs": [],
   "source": [
    "graph = StateGraph(AgentState)\n",
    "\n",
    "graph.add_node(\"chat\", chat_node)\n",
    "\n",
    "graph.add_edge(START, \"chat\")\n",
    "graph.add_edge(\"chat\", END)\n",
    "\n",
    "Agent = graph.compile()"
   ]
  },
  {
   "cell_type": "code",
   "execution_count": 15,
   "id": "7d1778d4",
   "metadata": {},
   "outputs": [
    {
     "name": "stdout",
     "output_type": "stream",
     "text": [
      "I don't have any information about your identity or personal details. We just started our conversation, and I don't have any prior data or context about you. I'm a blank slate, ready to learn and chat. Since we've already established your name as Muhammad, I'm curious - are you asking a more philosophical question about your existence or identity, or would you like to introduce yourself further?\n"
     ]
    }
   ],
   "source": [
    "state = {\"input\": \"Who AM I?\"}\n",
    "print(Agent.invoke(state)[\"output\"])"
   ]
  },
  {
   "cell_type": "code",
   "execution_count": 17,
   "id": "a180c596",
   "metadata": {},
   "outputs": [
    {
     "name": "stdout",
     "output_type": "stream",
     "text": [
      "Hello Muhammad Usman, thank you for introducing yourself further. As an AI developer, you've already given me a glimpse into your work, and I'm excited to learn more about your experiences and insights. It's great that you're working in this field, as it's a rapidly evolving and fascinating area of research.\n",
      "\n",
      "I've taken note of your full name, Muhammad Usman, which I'll keep in mind for future conversations. If you're willing to share, I'd love to hear more about your specific projects or areas of focus within AI development. Are you working on any cutting-edge projects, such as developing more advanced language models, exploring new applications of AI, or improving the efficiency and transparency of AI systems?\n"
     ]
    }
   ],
   "source": [
    "state = {\"input\": \"I am an AI developer. and my name is Muhammad Usman\"}\n",
    "print(Agent.invoke(state)[\"output\"])"
   ]
  },
  {
   "cell_type": "code",
   "execution_count": 18,
   "id": "1cdf016a",
   "metadata": {},
   "outputs": [
    {
     "name": "stdout",
     "output_type": "stream",
     "text": [
      "Hello Muhammad Usman, I'm glad you're asking again. I've taken note of your name and your profession as an AI developer. As we've discussed earlier, you've given me a glimpse into your work, but I'd love to learn more.\n",
      "\n",
      "To answer your question, I know that your name is Muhammad Usman, and you're an AI developer. If you'd like to share more about your work, I'd be happy to listen and ask questions. Are you working on any specific projects or areas of focus within AI development? Perhaps we could discuss your experiences and insights in more detail.\n",
      "\n",
      "Also, I must say that I appreciate your honesty and transparency in correcting me earlier when I forgot that your name is Muhammad Usman. It's a great example of how our conversations can help me learn and improve over time.\n"
     ]
    }
   ],
   "source": [
    "state = {\"input\": \"What's my name? and what do I do ?\"}\n",
    "print(Agent.invoke(state)[\"output\"])"
   ]
  },
  {
   "cell_type": "code",
   "execution_count": null,
   "id": "b963d14a",
   "metadata": {},
   "outputs": [],
   "source": []
  }
 ],
 "metadata": {
  "kernelspec": {
   "display_name": "agentic",
   "language": "python",
   "name": "python3"
  },
  "language_info": {
   "codemirror_mode": {
    "name": "ipython",
    "version": 3
   },
   "file_extension": ".py",
   "mimetype": "text/x-python",
   "name": "python",
   "nbconvert_exporter": "python",
   "pygments_lexer": "ipython3",
   "version": "3.13.6"
  }
 },
 "nbformat": 4,
 "nbformat_minor": 5
}
