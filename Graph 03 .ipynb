{
 "cells": [
  {
   "cell_type": "code",
   "execution_count": 17,
   "id": "9f09b248",
   "metadata": {},
   "outputs": [],
   "source": [
    "from langgraph.graph import StateGraph\n",
    "from typing import TypedDict"
   ]
  },
  {
   "cell_type": "code",
   "execution_count": 18,
   "id": "c7096cb3",
   "metadata": {},
   "outputs": [],
   "source": [
    "class AgentState(TypedDict):\n",
    "    name: str\n",
    "    age: str\n",
    "    skills: list[str]\n",
    "    final: str"
   ]
  },
  {
   "cell_type": "code",
   "execution_count": 19,
   "id": "d3426a3b",
   "metadata": {},
   "outputs": [],
   "source": [
    "def Name(state: AgentState) -> AgentState:\n",
    "    \n",
    "    state[\"final\"] = f\"Hey, {state['name'], }\"\n",
    "    return state\n",
    "\n",
    "def Age(state: AgentState) -> AgentState:\n",
    "    \n",
    "    state[\"final\"] = state[\"final\"] + f\"Your age is {state['age']}\"\n",
    "    return state\n",
    "\n",
    "def skills(state: AgentState) -> AgentState:\n",
    "    \n",
    "    state[\"final\"] = state[\"final\"] + f\"And you have the skills of {state['skills']}, Correct ??!\"\n",
    "    return state"
   ]
  },
  {
   "cell_type": "code",
   "execution_count": 20,
   "id": "d2f2d756",
   "metadata": {},
   "outputs": [],
   "source": [
    "Graph = StateGraph(AgentState)\n",
    "\n",
    "Graph.add_node(\"First_node\", Name)\n",
    "Graph.add_node(\"Second_node\", Age)\n",
    "Graph.add_node(\"Third_node\", skills)\n",
    "\n",
    "Graph.set_entry_point(\"First_node\")\n",
    "\n",
    "Graph.add_edge(\"First_node\", \"Second_node\")\n",
    "Graph.add_edge(\"Second_node\", \"Third_node\")\n",
    "\n",
    "Graph.set_finish_point(\"Third_node\")\n",
    "\n",
    "Compiled_Graph = Graph.compile()"
   ]
  },
  {
   "cell_type": "code",
   "execution_count": 21,
   "id": "27aba830",
   "metadata": {},
   "outputs": [
    {
     "data": {
      "text/plain": [
       "{'name': 'Muhammad Usman Ghani',\n",
       " 'age': '20',\n",
       " 'skills': ['AI', 'ML', 'Python'],\n",
       " 'final': \"Hey, ('Muhammad Usman Ghani',)Your age is 20And you have the skills of ['AI', 'ML', 'Python'], Correct ??!\"}"
      ]
     },
     "execution_count": 21,
     "metadata": {},
     "output_type": "execute_result"
    }
   ],
   "source": [
    "Compiled_Graph.invoke({\"name\": \"Muhammad Usman Ghani\", \"age\": \"20\", \"skills\": [\"AI\", \"ML\", \"Python\"]})"
   ]
  },
  {
   "cell_type": "code",
   "execution_count": null,
   "id": "03fa6032",
   "metadata": {},
   "outputs": [],
   "source": []
  }
 ],
 "metadata": {
  "kernelspec": {
   "display_name": "agentic",
   "language": "python",
   "name": "python3"
  },
  "language_info": {
   "codemirror_mode": {
    "name": "ipython",
    "version": 3
   },
   "file_extension": ".py",
   "mimetype": "text/x-python",
   "name": "python",
   "nbconvert_exporter": "python",
   "pygments_lexer": "ipython3",
   "version": "3.13.6"
  }
 },
 "nbformat": 4,
 "nbformat_minor": 5
}
