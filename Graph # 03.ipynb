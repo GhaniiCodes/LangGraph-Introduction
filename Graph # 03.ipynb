{
 "cells": [
  {
   "cell_type": "code",
   "execution_count": 1,
   "id": "b700b368",
   "metadata": {},
   "outputs": [],
   "source": [
    "from langgraph.graph import StateGraph\n",
    "from typing import TypedDict"
   ]
  },
  {
   "cell_type": "code",
   "execution_count": 2,
   "metadata": {},
   "outputs": [],
   "source": [
    "class AgentState(TypedDict):\n",
    "    name: str\n",
    "    age: str\n",
    "    Final: str"
   ]
  },
  {
   "cell_type": "code",
   "execution_count": 4,
   "metadata": {},
   "outputs": [],
   "source": [
    "def first_node(state: AgentState) -> AgentState:\n",
    "    \n",
    "    state['Final'] = f\"Hey {state['name'], }\"\n",
    "    return state\n",
    "\n",
    "\n",
    "def second_node(state: AgentState) -> AgentState:\n",
    "    \n",
    "    state['Final'] = state['Final'] + f\"Your age is {state['age'],}, Correct ??!\"\n",
    "    return state\n"
   ]
  },
  {
   "cell_type": "code",
   "execution_count": 9,
   "id": "8171377a",
   "metadata": {},
   "outputs": [
    {
     "data": {
      "text/plain": [
       "<langgraph.graph.state.StateGraph at 0x26e10346ea0>"
      ]
     },
     "execution_count": 9,
     "metadata": {},
     "output_type": "execute_result"
    }
   ],
   "source": [
    "Graph = StateGraph(AgentState)\n",
    "\n",
    "Graph.add_node(\"First_node\", first_node)\n",
    "Graph.add_node(\"Second_node\", second_node)\n",
    "\n",
    "Graph.set_entry_point(\"First_node\")\n",
    "\n",
    "Graph.add_edge(\"First_node\", \"Second_node\")\n",
    "\n",
    "Graph.set_finish_point(\"Second_node\")"
   ]
  },
  {
   "cell_type": "code",
   "execution_count": 10,
   "id": "aaecdc35",
   "metadata": {},
   "outputs": [
    {
     "data": {
      "image/png": "[encoded data removed]",
      "text/plain": [
       "<IPython.core.display.Image object>"
      ]
     },
     "metadata": {},
     "output_type": "display_data"
    }
   ],
   "source": [
    "from IPython.display import Image, display\n",
    "display(Image(Graph.compile().get_graph().draw_mermaid_png()))"
   ]
  },
  {
   "cell_type": "code",
   "execution_count": 11,
   "id": "632ec0f0",
   "metadata": {},
   "outputs": [],
   "source": [
    "Compiled_Graph = Graph.compile()"
   ]
  },
  {
   "cell_type": "code",
   "execution_count": 12,
   "id": "ec0f35bc",
   "metadata": {},
   "outputs": [
    {
     "data": {
      "text/plain": [
       "{'name': 'Ghani',\n",
       " 'age': 'Twenty',\n",
       " 'Final': \"Hey ('Ghani',)Your age is ('Twenty',), Correct ??!\"}"
      ]
     },
     "execution_count": 12,
     "metadata": {},
     "output_type": "execute_result"
    }
   ],
   "source": [
    "Compiled_Graph.invoke({\"name\": \"Ghani\", \"age\": \"Twenty\"})"
   ]
  },
  {
   "cell_type": "code",
   "execution_count": null,
   "id": "13542dbf",
   "metadata": {},
   "outputs": [],
   "source": []
  }
 ],
 "metadata": {
  "kernelspec": {
   "display_name": "agentic",
   "language": "python",
   "name": "python3"
  },
  "language_info": {
   "codemirror_mode": {
    "name": "ipython",
    "version": 3
   },
   "file_extension": ".py",
   "mimetype": "text/x-python",
   "name": "python",
   "nbconvert_exporter": "python",
   "pygments_lexer": "ipython3",
   "version": "3.13.6"
  }
 },
 "nbformat": 4,
 "nbformat_minor": 5
}
