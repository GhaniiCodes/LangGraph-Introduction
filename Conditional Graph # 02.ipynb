{
 "cells": [
  {
   "cell_type": "code",
   "execution_count": 6,
   "id": "d85f6e60",
   "metadata": {},
   "outputs": [],
   "source": [
    "from langgraph.graph import StateGraph, START, END\n",
    "from typing import TypedDict"
   ]
  },
  {
   "cell_type": "code",
   "execution_count": 7,
   "metadata": {},
   "outputs": [],
   "source": [
    "class AgentState(TypedDict):\n",
    "    Number_1: int\n",
    "    Number_2: int\n",
    "    Number_3: int\n",
    "    Number_4: int\n",
    "    Result_1: str\n",
    "    Result_2: str\n",
    "    operation_1: str\n",
    "    operation_2: str"
   ]
  },
  {
   "cell_type": "code",
   "execution_count": 8,
   "id": "a314082b",
   "metadata": {},
   "outputs": [],
   "source": [
    "def addition_1(state: AgentState) -> AgentState:\n",
    "    result = state[\"Number_1\"] + state[\"Number_2\"]\n",
    "    state[\"Result_1\"] = str(result)\n",
    "    return state\n",
    "\n",
    "def subtraction_1(state: AgentState) -> AgentState:\n",
    "    result = state[\"Number_1\"] - state[\"Number_2\"]\n",
    "    state[\"Result_1\"] = str(result)\n",
    "    return state\n",
    "\n",
    "def addition_2(state: AgentState) -> AgentState:\n",
    "    result = int(state[\"Result_1\"]) + state[\"Number_3\"] + state[\"Number_4\"]\n",
    "    state[\"Result_2\"] = str(result)\n",
    "    return state\n",
    "\n",
    "def subtraction_2(state: AgentState) -> AgentState:\n",
    "    result = int(state[\"Result_1\"]) - state[\"Number_3\"] - state[\"Number_4\"]\n",
    "    state[\"Result_2\"] = str(result)\n",
    "    return state\n",
    "\n",
    "def Decide_Next_Node_1(state: AgentState) -> str:\n",
    "    if state['operation_1'] == \"+\":\n",
    "        return \"Add_1\"\n",
    "    elif state['operation_1'] == \"-\":\n",
    "        return \"Sub_1\"\n",
    "    else:\n",
    "        raise ValueError(\"Unsupported Operation! Use '+' or '-'.\")\n",
    "\n",
    "def Decide_Next_Node_2(state: AgentState) -> str:\n",
    "    if state['operation_2'] == \"+\":\n",
    "        return \"Add_2\"\n",
    "    elif state['operation_2'] == \"-\":\n",
    "        return \"Sub_2\"\n",
    "    else:\n",
    "        raise ValueError(\"Unsupported Operation! Use '+' or '-'.\")\n",
    "\n",
    "def final_node(state: AgentState) -> AgentState:\n",
    "    print(\"Final result:\", state[\"Result_2\"])\n",
    "    return state"
   ]
  },
  {
   "cell_type": "code",
   "execution_count": 13,
   "id": "f8e4f39d",
   "metadata": {},
   "outputs": [],
   "source": [
    "builder = StateGraph(AgentState)\n",
    "\n",
    "# Add nodes\n",
    "builder.add_node(\"add_1\", addition_1)\n",
    "builder.add_node(\"sub_1\", subtraction_1)\n",
    "builder.add_node(\"add_2\", addition_2)\n",
    "builder.add_node(\"sub_2\", subtraction_2)\n",
    "builder.add_node(\"final\", final_node)\n",
    "builder.add_node(\"Decider_1\", Decide_Next_Node_1)\n",
    "builder.add_node(\"Decider_2\", Decide_Next_Node_2)\n",
    "\n",
    "\n",
    "builder.add_conditional_edges(\n",
    "    START,\n",
    "    Decide_Next_Node_1,\n",
    "    {\n",
    "        \"Add_1\": \"add_1\",\n",
    "        \"Sub_1\": \"sub_1\"\n",
    "    }\n",
    ")\n",
    "\n",
    "# Add edges from add_1 and sub_1 to Decider_2\n",
    "builder.add_edge(\"add_1\", \"Decider_2\")\n",
    "builder.add_edge(\"sub_1\", \"Decider_2\")\n",
    "\n",
    "# Add conditional edges from Decider_2 to add_2 or sub_2\n",
    "builder.add_conditional_edges(\n",
    "    \"Decider_2\",\n",
    "    Decide_Next_Node_2,\n",
    "    {\n",
    "        \"Add_2\": \"add_2\",\n",
    "        \"Sub_2\": \"sub_2\"\n",
    "    }\n",
    ")\n",
    "\n",
    "# Add edges from add_2 and sub_2 to final\n",
    "builder.add_edge(\"add_2\", \"final\")\n",
    "builder.add_edge(\"sub_2\", \"final\")\n",
    "\n",
    "# Compile the graph\n",
    "graph = builder.compile()"
   ]
  },
  {
   "cell_type": "code",
   "execution_count": null,
   "id": "99e94ad8",
   "metadata": {},
   "outputs": [],
   "source": []
  },
  {
   "cell_type": "code",
   "execution_count": null,
   "id": "a10d5d05",
   "metadata": {},
   "outputs": [],
   "source": []
  }
 ],
 "metadata": {
  "kernelspec": {
   "display_name": "agentic",
   "language": "python",
   "name": "python3"
  },
  "language_info": {
   "codemirror_mode": {
    "name": "ipython",
    "version": 3
   },
   "file_extension": ".py",
   "mimetype": "text/x-python",
   "name": "python",
   "nbconvert_exporter": "python",
   "pygments_lexer": "ipython3",
   "version": "3.13.6"
  }
 },
 "nbformat": 4,
 "nbformat_minor": 5
}
