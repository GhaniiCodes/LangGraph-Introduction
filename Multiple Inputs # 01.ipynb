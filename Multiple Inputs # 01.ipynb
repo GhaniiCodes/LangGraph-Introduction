{
 "cells": [
  {
   "cell_type": "code",
   "id": "initial_id",
   "metadata": {
    "collapsed": true,
    "ExecuteTime": {
     "end_time": "2025-09-24T08:20:25.658549Z",
     "start_time": "2025-09-24T08:20:24.856077Z"
    }
   },
   "source": [
    "from langgraph.graph import StateGraph\n",
    "from typing import TypedDict"
   ],
   "outputs": [],
   "execution_count": 1
  },
  {
   "metadata": {
    "ExecuteTime": {
     "end_time": "2025-09-24T08:27:10.625758Z",
     "start_time": "2025-09-24T08:27:10.619988Z"
    }
   },
   "cell_type": "code",
   "source": [
    "class AgentState(TypedDict):\n",
    "    name: str\n",
    "    values: list[int]\n",
    "    operation: str\n",
    "    result: str"
   ],
   "id": "9da47a10e6d1445f",
   "outputs": [],
   "execution_count": 6
  },
  {
   "metadata": {
    "ExecuteTime": {
     "end_time": "2025-09-24T08:29:45.441449Z",
     "start_time": "2025-09-24T08:29:45.435048Z"
    }
   },
   "cell_type": "code",
   "source": [
    "def multiply_list(numbers):\n",
    "    product = 1\n",
    "    for number in numbers:\n",
    "        product *= number\n",
    "    return product"
   ],
   "id": "502535a084489562",
   "outputs": [],
   "execution_count": 9
  },
  {
   "metadata": {
    "ExecuteTime": {
     "end_time": "2025-09-24T08:37:07.772676Z",
     "start_time": "2025-09-24T08:37:07.763004Z"
    }
   },
   "cell_type": "code",
   "source": [
    "def process(state: AgentState) -> AgentState:\n",
    "\n",
    "    if state[\"operation\"] == \"add\":\n",
    "        state[\"result\"] = f\"Hey {state[\"name\"]}, Your answer is: {sum(state[\"values\"])}\"\n",
    "\n",
    "        return state\n",
    "    elif state[\"operation\"] == \"multiply\":\n",
    "        state[\"result\"] = f\"Hey {state[\"name\"]}, Your answer is: {multiply_list(state[\"values\"])}\"\n",
    "\n",
    "        return state"
   ],
   "id": "265752aaf4e075e0",
   "outputs": [],
   "execution_count": 27
  },
  {
   "metadata": {
    "ExecuteTime": {
     "end_time": "2025-09-24T08:37:08.171077Z",
     "start_time": "2025-09-24T08:37:08.164666Z"
    }
   },
   "cell_type": "code",
   "source": "Graph = StateGraph(AgentState)",
   "id": "7d8f8bad84e29745",
   "outputs": [],
   "execution_count": 28
  },
  {
   "metadata": {
    "ExecuteTime": {
     "end_time": "2025-09-24T08:37:08.642274Z",
     "start_time": "2025-09-24T08:37:08.633446Z"
    }
   },
   "cell_type": "code",
   "source": [
    "Graph.add_node(\"processer\", process)\n",
    "Graph.set_entry_point(\"processer\")\n",
    "Graph.set_finish_point(\"processer\")\n",
    "\n",
    "Compiled_Graph = Graph.compile()"
   ],
   "id": "5783d04626ca907",
   "outputs": [],
   "execution_count": 29
  },
  {
   "metadata": {
    "ExecuteTime": {
     "end_time": "2025-09-24T08:37:09.276079Z",
     "start_time": "2025-09-24T08:37:09.265775Z"
    }
   },
   "cell_type": "code",
   "source": "Compiled_Graph.invoke({\"name\": \"Ghani\", \"operation\": \"multiply\", \"values\": [9, 2, 3, 4]})",
   "id": "84bb18f69faf4d5a",
   "outputs": [
    {
     "data": {
      "text/plain": [
       "{'name': 'Ghani',\n",
       " 'values': [9, 2, 3, 4],\n",
       " 'operation': 'multiply',\n",
       " 'result': 'Hey Ghani, Your answer is: 216'}"
      ]
     },
     "execution_count": 30,
     "metadata": {},
     "output_type": "execute_result"
    }
   ],
   "execution_count": 30
  },
  {
   "metadata": {
    "ExecuteTime": {
     "end_time": "2025-09-24T08:37:10.092208Z",
     "start_time": "2025-09-24T08:37:10.080355Z"
    }
   },
   "cell_type": "code",
   "source": "Compiled_Graph.invoke({\"name\": \"Ghani\", \"operation\": \"add\", \"values\": [1, 2, 3]})",
   "id": "5ed6ef77752dc5a5",
   "outputs": [
    {
     "data": {
      "text/plain": [
       "{'name': 'Ghani',\n",
       " 'values': [1, 2, 3],\n",
       " 'operation': 'add',\n",
       " 'result': 'Hey Ghani, Your answer is: 6'}"
      ]
     },
     "execution_count": 31,
     "metadata": {},
     "output_type": "execute_result"
    }
   ],
   "execution_count": 31
  },
  {
   "metadata": {
    "ExecuteTime": {
     "end_time": "2025-09-24T08:40:35.753301Z",
     "start_time": "2025-09-24T08:40:33.170794Z"
    }
   },
   "cell_type": "code",
   "source": [
    "from IPython.display import display, Image\n",
    "display(Image(Graph.compile().get_graph().draw_mermaid_png()))"
   ],
   "id": "64f21378c2cf4ae8",
   "outputs": [
    {
     "ename": "ValueError",
     "evalue": "Failed to reach https://mermaid.ink/ API while trying to render your graph. Status code: 502.\n\nTo resolve this issue:\n1. Check your internet connection and try again\n2. Try with higher retry settings: `draw_mermaid_png(..., max_retries=5, retry_delay=2.0)`\n3. Use the Pyppeteer rendering method which will render your graph locally in a browser: `draw_mermaid_png(..., draw_method=MermaidDrawMethod.PYPPETEER)`",
     "output_type": "error",
     "traceback": [
      "\u001B[31m---------------------------------------------------------------------------\u001B[39m",
      "\u001B[31mValueError\u001B[39m                                Traceback (most recent call last)",
      "\u001B[36mCell\u001B[39m\u001B[36m \u001B[39m\u001B[32mIn[34]\u001B[39m\u001B[32m, line 2\u001B[39m\n\u001B[32m      1\u001B[39m \u001B[38;5;28;01mfrom\u001B[39;00m\u001B[38;5;250m \u001B[39m\u001B[34;01mIPython\u001B[39;00m\u001B[34;01m.\u001B[39;00m\u001B[34;01mdisplay\u001B[39;00m\u001B[38;5;250m \u001B[39m\u001B[38;5;28;01mimport\u001B[39;00m display, Image\n\u001B[32m----> \u001B[39m\u001B[32m2\u001B[39m display(Image(\u001B[43mGraph\u001B[49m\u001B[43m.\u001B[49m\u001B[43mcompile\u001B[49m\u001B[43m(\u001B[49m\u001B[43m)\u001B[49m\u001B[43m.\u001B[49m\u001B[43mget_graph\u001B[49m\u001B[43m(\u001B[49m\u001B[43m)\u001B[49m\u001B[43m.\u001B[49m\u001B[43mdraw_mermaid_png\u001B[49m\u001B[43m(\u001B[49m\u001B[43m)\u001B[49m))\n",
      "\u001B[36mFile \u001B[39m\u001B[32mD:\\PYTHON\\Agentic AI\\.venv\\Lib\\site-packages\\langchain_core\\runnables\\graph.py:702\u001B[39m, in \u001B[36mGraph.draw_mermaid_png\u001B[39m\u001B[34m(self, curve_style, node_colors, wrap_label_n_words, output_file_path, draw_method, background_color, padding, max_retries, retry_delay, frontmatter_config)\u001B[39m\n\u001B[32m    692\u001B[39m \u001B[38;5;28;01mfrom\u001B[39;00m\u001B[38;5;250m \u001B[39m\u001B[34;01mlangchain_core\u001B[39;00m\u001B[34;01m.\u001B[39;00m\u001B[34;01mrunnables\u001B[39;00m\u001B[34;01m.\u001B[39;00m\u001B[34;01mgraph_mermaid\u001B[39;00m\u001B[38;5;250m \u001B[39m\u001B[38;5;28;01mimport\u001B[39;00m (  \u001B[38;5;66;03m# noqa: PLC0415\u001B[39;00m\n\u001B[32m    693\u001B[39m     draw_mermaid_png,\n\u001B[32m    694\u001B[39m )\n\u001B[32m    696\u001B[39m mermaid_syntax = \u001B[38;5;28mself\u001B[39m.draw_mermaid(\n\u001B[32m    697\u001B[39m     curve_style=curve_style,\n\u001B[32m    698\u001B[39m     node_colors=node_colors,\n\u001B[32m    699\u001B[39m     wrap_label_n_words=wrap_label_n_words,\n\u001B[32m    700\u001B[39m     frontmatter_config=frontmatter_config,\n\u001B[32m    701\u001B[39m )\n\u001B[32m--> \u001B[39m\u001B[32m702\u001B[39m \u001B[38;5;28;01mreturn\u001B[39;00m \u001B[43mdraw_mermaid_png\u001B[49m\u001B[43m(\u001B[49m\n\u001B[32m    703\u001B[39m \u001B[43m    \u001B[49m\u001B[43mmermaid_syntax\u001B[49m\u001B[43m=\u001B[49m\u001B[43mmermaid_syntax\u001B[49m\u001B[43m,\u001B[49m\n\u001B[32m    704\u001B[39m \u001B[43m    \u001B[49m\u001B[43moutput_file_path\u001B[49m\u001B[43m=\u001B[49m\u001B[43moutput_file_path\u001B[49m\u001B[43m,\u001B[49m\n\u001B[32m    705\u001B[39m \u001B[43m    \u001B[49m\u001B[43mdraw_method\u001B[49m\u001B[43m=\u001B[49m\u001B[43mdraw_method\u001B[49m\u001B[43m,\u001B[49m\n\u001B[32m    706\u001B[39m \u001B[43m    \u001B[49m\u001B[43mbackground_color\u001B[49m\u001B[43m=\u001B[49m\u001B[43mbackground_color\u001B[49m\u001B[43m,\u001B[49m\n\u001B[32m    707\u001B[39m \u001B[43m    \u001B[49m\u001B[43mpadding\u001B[49m\u001B[43m=\u001B[49m\u001B[43mpadding\u001B[49m\u001B[43m,\u001B[49m\n\u001B[32m    708\u001B[39m \u001B[43m    \u001B[49m\u001B[43mmax_retries\u001B[49m\u001B[43m=\u001B[49m\u001B[43mmax_retries\u001B[49m\u001B[43m,\u001B[49m\n\u001B[32m    709\u001B[39m \u001B[43m    \u001B[49m\u001B[43mretry_delay\u001B[49m\u001B[43m=\u001B[49m\u001B[43mretry_delay\u001B[49m\u001B[43m,\u001B[49m\n\u001B[32m    710\u001B[39m \u001B[43m\u001B[49m\u001B[43m)\u001B[49m\n",
      "\u001B[36mFile \u001B[39m\u001B[32mD:\\PYTHON\\Agentic AI\\.venv\\Lib\\site-packages\\langchain_core\\runnables\\graph_mermaid.py:310\u001B[39m, in \u001B[36mdraw_mermaid_png\u001B[39m\u001B[34m(mermaid_syntax, output_file_path, draw_method, background_color, padding, max_retries, retry_delay)\u001B[39m\n\u001B[32m    304\u001B[39m     img_bytes = asyncio.run(\n\u001B[32m    305\u001B[39m         _render_mermaid_using_pyppeteer(\n\u001B[32m    306\u001B[39m             mermaid_syntax, output_file_path, background_color, padding\n\u001B[32m    307\u001B[39m         )\n\u001B[32m    308\u001B[39m     )\n\u001B[32m    309\u001B[39m \u001B[38;5;28;01melif\u001B[39;00m draw_method == MermaidDrawMethod.API:\n\u001B[32m--> \u001B[39m\u001B[32m310\u001B[39m     img_bytes = \u001B[43m_render_mermaid_using_api\u001B[49m\u001B[43m(\u001B[49m\n\u001B[32m    311\u001B[39m \u001B[43m        \u001B[49m\u001B[43mmermaid_syntax\u001B[49m\u001B[43m,\u001B[49m\n\u001B[32m    312\u001B[39m \u001B[43m        \u001B[49m\u001B[43moutput_file_path\u001B[49m\u001B[43m=\u001B[49m\u001B[43moutput_file_path\u001B[49m\u001B[43m,\u001B[49m\n\u001B[32m    313\u001B[39m \u001B[43m        \u001B[49m\u001B[43mbackground_color\u001B[49m\u001B[43m=\u001B[49m\u001B[43mbackground_color\u001B[49m\u001B[43m,\u001B[49m\n\u001B[32m    314\u001B[39m \u001B[43m        \u001B[49m\u001B[43mmax_retries\u001B[49m\u001B[43m=\u001B[49m\u001B[43mmax_retries\u001B[49m\u001B[43m,\u001B[49m\n\u001B[32m    315\u001B[39m \u001B[43m        \u001B[49m\u001B[43mretry_delay\u001B[49m\u001B[43m=\u001B[49m\u001B[43mretry_delay\u001B[49m\u001B[43m,\u001B[49m\n\u001B[32m    316\u001B[39m \u001B[43m    \u001B[49m\u001B[43m)\u001B[49m\n\u001B[32m    317\u001B[39m \u001B[38;5;28;01melse\u001B[39;00m:\n\u001B[32m    318\u001B[39m     supported_methods = \u001B[33m\"\u001B[39m\u001B[33m, \u001B[39m\u001B[33m\"\u001B[39m.join([m.value \u001B[38;5;28;01mfor\u001B[39;00m m \u001B[38;5;129;01min\u001B[39;00m MermaidDrawMethod])\n",
      "\u001B[36mFile \u001B[39m\u001B[32mD:\\PYTHON\\Agentic AI\\.venv\\Lib\\site-packages\\langchain_core\\runnables\\graph_mermaid.py:463\u001B[39m, in \u001B[36m_render_mermaid_using_api\u001B[39m\u001B[34m(mermaid_syntax, output_file_path, background_color, file_type, max_retries, retry_delay)\u001B[39m\n\u001B[32m    458\u001B[39m     \u001B[38;5;66;03m# For other status codes, fail immediately\u001B[39;00m\n\u001B[32m    459\u001B[39m     msg = (\n\u001B[32m    460\u001B[39m         \u001B[33m\"\u001B[39m\u001B[33mFailed to reach https://mermaid.ink/ API while trying to render \u001B[39m\u001B[33m\"\u001B[39m\n\u001B[32m    461\u001B[39m         \u001B[33mf\u001B[39m\u001B[33m\"\u001B[39m\u001B[33myour graph. Status code: \u001B[39m\u001B[38;5;132;01m{\u001B[39;00mresponse.status_code\u001B[38;5;132;01m}\u001B[39;00m\u001B[33m.\u001B[39m\u001B[38;5;130;01m\\n\u001B[39;00m\u001B[38;5;130;01m\\n\u001B[39;00m\u001B[33m\"\u001B[39m\n\u001B[32m    462\u001B[39m     ) + error_msg_suffix\n\u001B[32m--> \u001B[39m\u001B[32m463\u001B[39m     \u001B[38;5;28;01mraise\u001B[39;00m \u001B[38;5;167;01mValueError\u001B[39;00m(msg)\n\u001B[32m    465\u001B[39m \u001B[38;5;28;01mexcept\u001B[39;00m (requests.RequestException, requests.Timeout) \u001B[38;5;28;01mas\u001B[39;00m e:\n\u001B[32m    466\u001B[39m     \u001B[38;5;28;01mif\u001B[39;00m attempt < max_retries:\n\u001B[32m    467\u001B[39m         \u001B[38;5;66;03m# Exponential backoff with jitter\u001B[39;00m\n",
      "\u001B[31mValueError\u001B[39m: Failed to reach https://mermaid.ink/ API while trying to render your graph. Status code: 502.\n\nTo resolve this issue:\n1. Check your internet connection and try again\n2. Try with higher retry settings: `draw_mermaid_png(..., max_retries=5, retry_delay=2.0)`\n3. Use the Pyppeteer rendering method which will render your graph locally in a browser: `draw_mermaid_png(..., draw_method=MermaidDrawMethod.PYPPETEER)`"
     ]
    }
   ],
   "execution_count": 34
  },
  {
   "metadata": {},
   "cell_type": "code",
   "outputs": [],
   "execution_count": null,
   "source": "",
   "id": "3c036a3e7d50d2f4"
  }
 ],
 "metadata": {
  "kernelspec": {
   "display_name": "Python 3",
   "language": "python",
   "name": "python3"
  },
  "language_info": {
   "codemirror_mode": {
    "name": "ipython",
    "version": 2
   },
   "file_extension": ".py",
   "mimetype": "text/x-python",
   "name": "python",
   "nbconvert_exporter": "python",
   "pygments_lexer": "ipython2",
   "version": "2.7.6"
  }
 },
 "nbformat": 4,
 "nbformat_minor": 5
}
