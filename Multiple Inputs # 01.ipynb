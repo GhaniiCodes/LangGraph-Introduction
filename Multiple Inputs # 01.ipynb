{
 "cells": [
  {
   "cell_type": "code",
   "execution_count": 9,
   "id": "initial_id",
   "metadata": {
    "ExecuteTime": {
     "end_time": "2025-09-24T13:47:43.036378Z",
     "start_time": "2025-09-24T13:47:41.899014Z"
    },
    "collapsed": true
   },
   "outputs": [],
   "source": [
    "from langgraph.graph import StateGraph\n",
    "from typing import TypedDict"
   ]
  },
  {
   "cell_type": "code",
   "execution_count": 10,
   "id": "9da47a10e6d1445f",
   "metadata": {
    "ExecuteTime": {
     "end_time": "2025-09-24T13:47:45.273192Z",
     "start_time": "2025-09-24T13:47:45.269366Z"
    }
   },
   "outputs": [],
   "source": [
    "class AgentState(TypedDict):\n",
    "    name: str\n",
    "    values: list[int]\n",
    "    operation: str\n",
    "    result: str"
   ]
  },
  {
   "cell_type": "code",
   "execution_count": 11,
   "id": "502535a084489562",
   "metadata": {
    "ExecuteTime": {
     "end_time": "2025-09-24T13:47:45.993245Z",
     "start_time": "2025-09-24T13:47:45.989395Z"
    }
   },
   "outputs": [],
   "source": [
    "def multiply_list(numbers):\n",
    "    product = 1\n",
    "    for number in numbers:\n",
    "        product *= number\n",
    "    return product"
   ]
  },
  {
   "cell_type": "code",
   "execution_count": 12,
   "id": "265752aaf4e075e0",
   "metadata": {
    "ExecuteTime": {
     "end_time": "2025-09-24T13:47:46.634068Z",
     "start_time": "2025-09-24T13:47:46.628158Z"
    }
   },
   "outputs": [],
   "source": [
    "def process(state: AgentState) -> AgentState:\n",
    "\n",
    "    if state[\"operation\"] == \"add\":\n",
    "        state[\"result\"] = f\"Hey {state[\"name\"]}, Your answer is: {sum(state[\"values\"])}\"\n",
    "\n",
    "        return state\n",
    "    elif state[\"operation\"] == \"multiply\":\n",
    "        state[\"result\"] = f\"Hey {state[\"name\"]}, Your answer is: {multiply_list(state[\"values\"])}\"\n",
    "\n",
    "        return state"
   ]
  },
  {
   "cell_type": "code",
   "execution_count": 17,
   "id": "5783d04626ca907",
   "metadata": {
    "ExecuteTime": {
     "end_time": "2025-09-24T13:47:47.953423Z",
     "start_time": "2025-09-24T13:47:47.947707Z"
    }
   },
   "outputs": [],
   "source": [
    "Graph = StateGraph(AgentState)\n",
    "Graph.add_node(\"processer\", process)\n",
    "Graph.set_entry_point(\"processer\")\n",
    "Graph.set_finish_point(\"processer\")\n",
    "\n",
    "Compiled_Graph = Graph.compile()"
   ]
  },
  {
   "cell_type": "code",
   "execution_count": 15,
   "id": "84bb18f69faf4d5a",
   "metadata": {
    "ExecuteTime": {
     "end_time": "2025-09-24T13:47:48.520259Z",
     "start_time": "2025-09-24T13:47:48.509123Z"
    }
   },
   "outputs": [
    {
     "data": {
      "text/plain": [
       "{'name': 'Ghani',\n",
       " 'values': [9, 2, 3, 4],\n",
       " 'operation': 'multiply',\n",
       " 'result': 'Hey Ghani, Your answer is: 216'}"
      ]
     },
     "execution_count": 15,
     "metadata": {},
     "output_type": "execute_result"
    }
   ],
   "source": [
    "Compiled_Graph.invoke({\"name\": \"Ghani\", \"operation\": \"multiply\", \"values\": [9, 2, 3, 4]})"
   ]
  },
  {
   "cell_type": "code",
   "execution_count": 16,
   "id": "5ed6ef77752dc5a5",
   "metadata": {
    "ExecuteTime": {
     "end_time": "2025-09-24T13:47:49.196769Z",
     "start_time": "2025-09-24T13:47:49.190150Z"
    }
   },
   "outputs": [
    {
     "data": {
      "text/plain": [
       "{'name': 'Ghani',\n",
       " 'values': [1, 2, 3],\n",
       " 'operation': 'add',\n",
       " 'result': 'Hey Ghani, Your answer is: 6'}"
      ]
     },
     "execution_count": 16,
     "metadata": {},
     "output_type": "execute_result"
    }
   ],
   "source": [
    "Compiled_Graph.invoke({\"name\": \"Ghani\", \"operation\": \"add\", \"values\": [1, 2, 3]})"
   ]
  },
  {
   "cell_type": "code",
   "execution_count": null,
   "id": "db40974e",
   "metadata": {},
   "outputs": [],
   "source": []
  }
 ],
 "metadata": {
  "kernelspec": {
   "display_name": "agentic",
   "language": "python",
   "name": "python3"
  },
  "language_info": {
   "codemirror_mode": {
    "name": "ipython",
    "version": 3
   },
   "file_extension": ".py",
   "mimetype": "text/x-python",
   "name": "python",
   "nbconvert_exporter": "python",
   "pygments_lexer": "ipython3",
   "version": "3.13.6"
  }
 },
 "nbformat": 4,
 "nbformat_minor": 5
}
