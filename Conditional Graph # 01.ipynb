{
 "cells": [
  {
   "cell_type": "code",
   "execution_count": 7,
   "id": "5da23a83",
   "metadata": {},
   "outputs": [],
   "source": [
    "from langgraph.graph import StateGraph, START, END\n",
    "from typing import TypedDict"
   ]
  },
  {
   "cell_type": "code",
   "execution_count": 8,
   "metadata": {},
   "outputs": [],
   "source": [
    "class AgentState(TypedDict):\n",
    "    Number_1: int\n",
    "    Number_2: int\n",
    "    Number_3: int\n",
    "    Number_4: int\n",
    "    Result_1: str\n",
    "    Result_2: str\n",
    "    operation_1: str\n",
    "    operation_2: str"
   ]
  },
  {
   "cell_type": "code",
   "execution_count": 9,
   "id": "dec4d75b",
   "metadata": {},
   "outputs": [],
   "source": [
    "def start_node(state: AgentState) -> AgentState:\n",
    "    return state\n",
    "\n",
    "def addition_1(state: AgentState) -> AgentState:\n",
    "    result = state[\"Number_1\"] + state[\"Number_2\"]\n",
    "    state[\"Result_1\"] = str(result)\n",
    "    return state\n",
    "\n",
    "def subtraction_1(state: AgentState) -> AgentState:\n",
    "    result = state[\"Number_1\"] - state[\"Number_2\"]\n",
    "    state[\"Result_1\"] = str(result)\n",
    "    return state\n",
    "\n",
    "def addition_2(state: AgentState) -> AgentState:\n",
    "    result = int(state[\"Result_1\"]) + state[\"Number_3\"] + state[\"Number_4\"]\n",
    "    state[\"Result_2\"] = str(result)\n",
    "    return state\n",
    "\n",
    "def subtraction_2(state: AgentState) -> AgentState:\n",
    "    result = int(state[\"Result_1\"]) - state[\"Number_3\"] - state[\"Number_4\"]\n",
    "    state[\"Result_2\"] = str(result)\n",
    "    return state\n",
    "\n",
    "def final_node(state: AgentState) -> AgentState:\n",
    "    print(\"Final result:\", state[\"Result_2\"])\n",
    "    return state"
   ]
  },
  {
   "cell_type": "code",
   "execution_count": 10,
   "id": "04f5b746",
   "metadata": {},
   "outputs": [],
   "source": [
    "builder = StateGraph(AgentState)\n",
    "\n",
    "builder.add_node(\"start\", start_node)\n",
    "builder.add_node(\"add_1\", addition_1)\n",
    "builder.add_node(\"sub_1\", subtraction_1)\n",
    "builder.add_node(\"add_2\", addition_2)\n",
    "builder.add_node(\"sub_2\", subtraction_2)\n",
    "builder.add_node(\"final\", final_node)\n",
    "\n",
    "builder.set_entry_point(\"start\")\n",
    "\n",
    "# First conditional edge\n",
    "builder.add_conditional_edges(\n",
    "    \"start\",\n",
    "    lambda state: \"add_1\" if state[\"operation_1\"] == \"+\" else \"sub_1\",\n",
    "    {\"add_1\": \"add_1\", \"sub_1\": \"sub_1\"}\n",
    ")\n",
    "\n",
    "# Second conditional edge after Result_1\n",
    "builder.add_conditional_edges(\n",
    "    \"add_1\",\n",
    "    lambda state: \"add_2\" if state[\"operation_2\"] == \"+\" else \"sub_2\",\n",
    "    {\"add_2\": \"add_2\", \"sub_2\": \"sub_2\"}\n",
    ")\n",
    "\n",
    "builder.add_conditional_edges(\n",
    "    \"sub_1\",\n",
    "    lambda state: \"add_2\" if state[\"operation_2\"] == \"+\" else \"sub_2\",\n",
    "    {\"add_2\": \"add_2\", \"sub_2\": \"sub_2\"}\n",
    ")\n",
    "\n",
    "# Final edge\n",
    "builder.add_edge(\"add_2\", \"final\")\n",
    "builder.add_edge(\"sub_2\", \"final\")\n",
    "\n",
    "graph = builder.compile()"
   ]
  },
  {
   "cell_type": "code",
   "execution_count": 11,
   "id": "1a727b81",
   "metadata": {},
   "outputs": [
    {
     "name": "stdout",
     "output_type": "stream",
     "text": [
      "Final result: 12\n"
     ]
    },
    {
     "data": {
      "text/plain": [
       "{'Number_1': 10,\n",
       " 'Number_2': 5,\n",
       " 'Number_3': 2,\n",
       " 'Number_4': 1,\n",
       " 'Result_1': '15',\n",
       " 'Result_2': '12',\n",
       " 'operation_1': '+',\n",
       " 'operation_2': '-'}"
      ]
     },
     "execution_count": 11,
     "metadata": {},
     "output_type": "execute_result"
    }
   ],
   "source": [
    "graph.invoke({\n",
    "    \"Number_1\": 10,\n",
    "    \"Number_2\": 5,\n",
    "    \"Number_3\": 2,\n",
    "    \"Number_4\": 1,\n",
    "    \"operation_1\": \"+\",\n",
    "    \"operation_2\": \"-\"\n",
    "})"
   ]
  },
  {
   "cell_type": "code",
   "execution_count": null,
   "id": "07d1ad1a",
   "metadata": {},
   "outputs": [],
   "source": []
  }
 ],
 "metadata": {
  "kernelspec": {
   "display_name": "agentic",
   "language": "python",
   "name": "python3"
  },
  "language_info": {
   "codemirror_mode": {
    "name": "ipython",
    "version": 3
   },
   "file_extension": ".py",
   "mimetype": "text/x-python",
   "name": "python",
   "nbconvert_exporter": "python",
   "pygments_lexer": "ipython3",
   "version": "3.13.6"
  }
 },
 "nbformat": 4,
 "nbformat_minor": 5
}
