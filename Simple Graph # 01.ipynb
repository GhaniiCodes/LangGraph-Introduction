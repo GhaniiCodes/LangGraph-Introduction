{
 "cells": [
  {
   "cell_type": "code",
   "id": "initial_id",
   "metadata": {
    "collapsed": true,
    "ExecuteTime": {
     "end_time": "2025-09-23T08:30:22.362670Z",
     "start_time": "2025-09-23T08:30:21.645059Z"
    }
   },
   "source": [
    "from typing import TypedDict, Dict\n",
    "from langgraph.graph import StateGraph\n",
    "from IPython.display import display, Image"
   ],
   "outputs": [],
   "execution_count": 1
  },
  {
   "metadata": {
    "ExecuteTime": {
     "end_time": "2025-09-23T08:30:23.121140Z",
     "start_time": "2025-09-23T08:30:23.116222Z"
    }
   },
   "cell_type": "code",
   "source": [
    "class AgentState(TypedDict):\n",
    "    message : str"
   ],
   "id": "739c9d548b8e9929",
   "outputs": [],
   "execution_count": 2
  },
  {
   "metadata": {
    "ExecuteTime": {
     "end_time": "2025-09-23T08:30:23.924323Z",
     "start_time": "2025-09-23T08:30:23.918623Z"
    }
   },
   "cell_type": "code",
   "source": [
    "def greetings(state: AgentState) -> AgentState:\n",
    "\n",
    "    state[\"message\"] = \"Assalamwalaikum Rahmatullah, \" + state[\"message\"] + \", Ke haal chaal\"\n",
    "    return state"
   ],
   "id": "815c4858911c1f4e",
   "outputs": [],
   "execution_count": 3
  },
  {
   "metadata": {
    "ExecuteTime": {
     "end_time": "2025-09-23T08:30:24.462096Z",
     "start_time": "2025-09-23T08:30:24.452259Z"
    }
   },
   "cell_type": "code",
   "source": [
    "Graph = StateGraph(AgentState)\n",
    "\n",
    "Graph.add_node(\"Greetings\", greetings)\n",
    "Graph.set_entry_point(\"Greetings\")\n",
    "Graph.set_finish_point(\"Greetings\")\n",
    "\n",
    "compiled =  Graph.compile()"
   ],
   "id": "ce91fa62ad5b4c10",
   "outputs": [],
   "execution_count": 4
  },
  {
   "metadata": {
    "ExecuteTime": {
     "end_time": "2025-09-23T08:30:27.031985Z",
     "start_time": "2025-09-23T08:30:25.553672Z"
    }
   },
   "cell_type": "code",
   "source": "display(Image(Graph.compile().get_graph().draw_mermaid_png()))",
   "id": "b7b35d11b6111403",
   "outputs": [
    {
     "data": {
      "image/png": "[encoded data removed]",
      "text/plain": [
       "<IPython.core.display.Image object>"
      ]
     },
     "metadata": {},
     "output_type": "display_data"
    }
   ],
   "execution_count": 5
  },
  {
   "metadata": {
    "ExecuteTime": {
     "end_time": "2025-09-23T08:30:28.593675Z",
     "start_time": "2025-09-23T08:30:28.580787Z"
    }
   },
   "cell_type": "code",
   "source": "compiled.invoke({\"message\": \" Ghani sb \"})",
   "id": "5631d3907985cb85",
   "outputs": [
    {
     "data": {
      "text/plain": [
       "{'message': 'Assalamwalaikum Rahmatullah,  Ghani sb , Ke haal chaal'}"
      ]
     },
     "execution_count": 6,
     "metadata": {},
     "output_type": "execute_result"
    }
   ],
   "execution_count": 6
  },
  {
   "metadata": {},
   "cell_type": "code",
   "outputs": [],
   "execution_count": null,
   "source": "",
   "id": "7c8075ceb7b2de4d"
  }
 ],
 "metadata": {
  "kernelspec": {
   "display_name": "Python 3",
   "language": "python",
   "name": "python3"
  },
  "language_info": {
   "codemirror_mode": {
    "name": "ipython",
    "version": 2
   },
   "file_extension": ".py",
   "mimetype": "text/x-python",
   "name": "python",
   "nbconvert_exporter": "python",
   "pygments_lexer": "ipython2",
   "version": "2.7.6"
  }
 },
 "nbformat": 4,
 "nbformat_minor": 5
}
