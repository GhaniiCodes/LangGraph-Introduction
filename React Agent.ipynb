{
 "cells": [
  {
   "cell_type": "code",
   "execution_count": 1,
   "id": "ce410263",
   "metadata": {},
   "outputs": [],
   "source": [
    "import os \n",
    "from dotenv import load_dotenv\n",
    "from langchain_core.messages import SystemMessage, ToolMessage, BaseMessage\n",
    "from langchain_groq import ChatGroq\n",
    "from langgraph.graph import StateGraph, START, END\n",
    "from langchain_core.tools import tool\n",
    "from typing import TypedDict, Annotated, Sequence\n",
    "from langgraph.graph.message import add_messages\n",
    "from langgraph.prebuilt import tool_node"
   ]
  },
  {
   "cell_type": "code",
   "execution_count": 3,
   "id": "eb80767b",
   "metadata": {},
   "outputs": [
    {
     "data": {
      "text/plain": [
       "True"
      ]
     },
     "execution_count": 3,
     "metadata": {},
     "output_type": "execute_result"
    }
   ],
   "source": [
    "load_dotenv(r\"D:\\PYTHON\\Agentic AI\\.ENV FILES\\.env\")"
   ]
  },
  {
   "cell_type": "code",
   "execution_count": 4,
   "id": "1ff04a38",
   "metadata": {},
   "outputs": [],
   "source": [
    "GROQ_Key = os.getenv(\"GROQ_API_KEY\")"
   ]
  },
  {
   "cell_type": "code",
   "execution_count": null,
   "id": "48893ec8",
   "metadata": {},
   "outputs": [],
   "source": []
  },
  {
   "cell_type": "code",
   "execution_count": null,
   "id": "faffe534",
   "metadata": {},
   "outputs": [],
   "source": []
  }
 ],
 "metadata": {
  "kernelspec": {
   "display_name": "agentic",
   "language": "python",
   "name": "python3"
  },
  "language_info": {
   "codemirror_mode": {
    "name": "ipython",
    "version": 3
   },
   "file_extension": ".py",
   "mimetype": "text/x-python",
   "name": "python",
   "nbconvert_exporter": "python",
   "pygments_lexer": "ipython3",
   "version": "3.13.6"
  }
 },
 "nbformat": 4,
 "nbformat_minor": 5
}
