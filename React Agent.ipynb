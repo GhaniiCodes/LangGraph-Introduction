{
 "cells": [
  {
   "cell_type": "code",
   "execution_count": 2,
   "id": "ce410263",
   "metadata": {},
   "outputs": [],
   "source": [
    "import os \n",
    "from dotenv import load_dotenv\n",
    "from langchain_core.messages import SystemMessage, ToolMessage, BaseMessage, HumanMessage\n",
    "from langchain_groq import ChatGroq\n",
    "from langgraph.graph import StateGraph, START, END\n",
    "from langchain_core.tools import tool\n",
    "from typing import TypedDict, Annotated, Sequence\n",
    "from langgraph.graph.message import add_messages\n",
    "from langgraph.prebuilt import ToolNode"
   ]
  },
  {
   "cell_type": "code",
   "execution_count": 3,
   "id": "eb80767b",
   "metadata": {},
   "outputs": [
    {
     "data": {
      "text/plain": [
       "True"
      ]
     },
     "execution_count": 3,
     "metadata": {},
     "output_type": "execute_result"
    }
   ],
   "source": [
    "load_dotenv(r\"D:\\PYTHON\\Agentic AI\\.ENV FILES\\.env\")"
   ]
  },
  {
   "cell_type": "code",
   "execution_count": 4,
   "id": "1ff04a38",
   "metadata": {},
   "outputs": [],
   "source": [
    "GROQ_Key = os.getenv(\"GROQ_API_KEY\")"
   ]
  },
  {
   "cell_type": "code",
   "execution_count": 5,
   "id": "489c68f8",
   "metadata": {},
   "outputs": [],
   "source": [
    "class AgentState(TypedDict):\n",
    "    messages: Annotated[Sequence[BaseMessage], add_messages]"
   ]
  },
  {
   "cell_type": "code",
   "execution_count": 6,
   "id": "f4eb503e",
   "metadata": {},
   "outputs": [],
   "source": [
    "@tool\n",
    "def Add(a: int , b: int):\n",
    "    \"\"\"This is a addition function that add the numbers\"\"\"\n",
    "    \n",
    "    return a + b"
   ]
  },
  {
   "cell_type": "code",
   "execution_count": 7,
   "id": "f2d7afd0",
   "metadata": {},
   "outputs": [],
   "source": [
    "Tools = [Add]"
   ]
  },
  {
   "cell_type": "code",
   "execution_count": 8,
   "id": "5e9ca38a",
   "metadata": {},
   "outputs": [],
   "source": [
    "Model = ChatGroq(model=\"llama-3.1-8b-instant\", api_key=GROQ_Key).bind_tools(Tools)"
   ]
  },
  {
   "cell_type": "code",
   "execution_count": 9,
   "id": "96818c9a",
   "metadata": {},
   "outputs": [],
   "source": [
    "def Call_model(state: AgentState) -> AgentState:\n",
    "    system_prompt = SystemMessage(content=\"You are an AI assistant. Answer questions clearly and precisely.\")\n",
    "    messages = [system_prompt] + state[\"messages\"]\n",
    "    response = Model.invoke(messages)\n",
    "    return {\"messages\": state[\"messages\"] + [response]}"
   ]
  },
  {
   "cell_type": "code",
   "execution_count": 10,
   "id": "8856e17e",
   "metadata": {},
   "outputs": [],
   "source": [
    "def Continue(state: AgentState):\n",
    "    last_message = state[\"messages\"][-1]\n",
    "    if hasattr(last_message, \"tool_calls\") and last_message.tool_calls:\n",
    "        return \"continue\"\n",
    "    else:\n",
    "        return \"end\""
   ]
  },
  {
   "cell_type": "code",
   "execution_count": 11,
   "id": "e17e3fad",
   "metadata": {},
   "outputs": [],
   "source": [
    "Graph = StateGraph(AgentState)\n",
    "Graph.add_node(\"Agent\", Call_model)\n",
    "Tool = ToolNode(tools=Tools)\n",
    "Graph.add_node(\"Tool\", Tool)\n",
    "Graph.set_entry_point(\"Agent\")\n",
    "\n",
    "Graph.add_conditional_edges(\n",
    "    \"Agent\",\n",
    "    Continue,\n",
    "    {\n",
    "        \"continue\": \"Tool\",\n",
    "        \"end\": END,\n",
    "    },\n",
    ")\n",
    "\n",
    "Graph.add_edge(\"Tool\", \"Agent\")\n",
    "\n",
    "Compiled_Graph = Graph.compile()\n"
   ]
  },
  {
   "cell_type": "code",
   "execution_count": 13,
   "id": "d84b17b7",
   "metadata": {},
   "outputs": [
    {
     "data": {
      "text/plain": [
       "{'messages': [HumanMessage(content='Add 23 and 98', additional_kwargs={}, response_metadata={}, id='565bc819-b330-41b2-963f-665cc18376b3'),\n",
       "  AIMessage(content='', additional_kwargs={'tool_calls': [{'id': 'wma5e6t47', 'function': {'arguments': '{\"a\":23,\"b\":98}', 'name': 'Add'}, 'type': 'function'}]}, response_metadata={'token_usage': {'completion_tokens': 19, 'prompt_tokens': 242, 'total_tokens': 261, 'completion_time': 0.034386839, 'prompt_time': 0.014769709, 'queue_time': 0.044793161, 'total_time': 0.049156548}, 'model_name': 'llama-3.1-8b-instant', 'system_fingerprint': 'fp_ab04adca7d', 'service_tier': 'on_demand', 'finish_reason': 'tool_calls', 'logprobs': None}, id='run--fa3af7e8-cd65-49b8-a197-82530114c34b-0', tool_calls=[{'name': 'Add', 'args': {'a': 23, 'b': 98}, 'id': 'wma5e6t47', 'type': 'tool_call'}], usage_metadata={'input_tokens': 242, 'output_tokens': 19, 'total_tokens': 261}),\n",
       "  ToolMessage(content='121', name='Add', id='1f7bb61e-04bf-466d-bee2-e64ffe3ffd77', tool_call_id='wma5e6t47'),\n",
       "  AIMessage(content='The result of the function call is 121.', additional_kwargs={}, response_metadata={'token_usage': {'completion_tokens': 11, 'prompt_tokens': 272, 'total_tokens': 283, 'completion_time': 0.015294609, 'prompt_time': 0.022506675, 'queue_time': 0.045585095, 'total_time': 0.037801284}, 'model_name': 'llama-3.1-8b-instant', 'system_fingerprint': 'fp_e32974efee', 'service_tier': 'on_demand', 'finish_reason': 'stop', 'logprobs': None}, id='run--8d57ed92-aee8-42f2-89cd-393c629d404c-0', usage_metadata={'input_tokens': 272, 'output_tokens': 11, 'total_tokens': 283})]}"
      ]
     },
     "execution_count": 13,
     "metadata": {},
     "output_type": "execute_result"
    }
   ],
   "source": [
    "result = Compiled_Graph.invoke({\n",
    "    \"messages\": [HumanMessage(content=\"Add 23 and 98\")]\n",
    "})\n",
    "\n",
    "result"
   ]
  },
  {
   "cell_type": "code",
   "execution_count": null,
   "id": "7a79e94a",
   "metadata": {},
   "outputs": [],
   "source": []
  }
 ],
 "metadata": {
  "kernelspec": {
   "display_name": "agentic",
   "language": "python",
   "name": "python3"
  },
  "language_info": {
   "codemirror_mode": {
    "name": "ipython",
    "version": 3
   },
   "file_extension": ".py",
   "mimetype": "text/x-python",
   "name": "python",
   "nbconvert_exporter": "python",
   "pygments_lexer": "ipython3",
   "version": "3.13.6"
  }
 },
 "nbformat": 4,
 "nbformat_minor": 5
}
