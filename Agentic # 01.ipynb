{
 "cells": [
  {
   "cell_type": "code",
   "execution_count": 25,
   "id": "978743f9",
   "metadata": {},
   "outputs": [],
   "source": [
    "from typing import TypedDict\n",
    "from langchain_groq import ChatGroq\n",
    "from langchain_core.messages import HumanMessage\n",
    "from dotenv import load_dotenv\n",
    "from langgraph.graph import StateGraph, START, END\n",
    "import os "
   ]
  },
  {
   "cell_type": "code",
   "execution_count": 26,
   "metadata": {},
   "outputs": [
    {
     "data": {
      "text/plain": [
       "True"
      ]
     },
     "execution_count": 26,
     "metadata": {},
     "output_type": "execute_result"
    }
   ],
   "source": [
    "load_dotenv(r\"D:\\PYTHON\\Agentic AI\\.ENV FILES\\.env\")"
   ]
  },
  {
   "cell_type": "code",
   "execution_count": 27,
   "id": "88b2ef5c",
   "metadata": {},
   "outputs": [],
   "source": [
    "GROQ_Key = os.getenv(\"GROQ_API_KEY\")"
   ]
  },
  {
   "cell_type": "code",
   "execution_count": 28,
   "id": "26fa4eae",
   "metadata": {},
   "outputs": [],
   "source": [
    "Model = ChatGroq(model= \"llama-3.1-8b-instant\", api_key= GROQ_Key)"
   ]
  },
  {
   "cell_type": "code",
   "execution_count": 29,
   "id": "e60dc275",
   "metadata": {},
   "outputs": [],
   "source": [
    "class AgentState(TypedDict):\n",
    "    messages: list[HumanMessage]"
   ]
  },
  {
   "cell_type": "code",
   "execution_count": 30,
   "id": "8dab2ce4",
   "metadata": {},
   "outputs": [],
   "source": [
    "\n",
    "def Agent_Response(state: AgentState) -> AgentState:\n",
    "    \n",
    "    Response = Model.invoke(state[\"messages\"])\n",
    "    human_message = state[\"messages\"][-1].content\n",
    "    print (f\"\\n Human : {human_message}\")\n",
    "    print (f\"\\n AI: {Response.content}\")\n",
    "    return state"
   ]
  },
  {
   "cell_type": "code",
   "execution_count": 31,
   "id": "887e6bc1",
   "metadata": {},
   "outputs": [],
   "source": [
    "Graph = StateGraph(AgentState)\n",
    "\n",
    "Graph.add_node(\"Process\", Agent_Response)\n",
    "Graph.add_edge(START, \"Process\")\n",
    "Graph.add_edge(\"Process\", END)\n",
    "\n",
    "Agent = Graph.compile()"
   ]
  },
  {
   "cell_type": "code",
   "execution_count": 32,
   "id": "a120aff6",
   "metadata": {},
   "outputs": [
    {
     "name": "stdout",
     "output_type": "stream",
     "text": [
      "\n",
      " Human : Hello\n",
      "\n",
      " AI: It's nice to meet you. Is there something I can help you with or would you like to chat?\n",
      "\n",
      " Human : How can I become an AI engineer\n",
      "\n",
      " AI: To become an AI engineer, you'll need to combine skills in programming, mathematics, and machine learning. Here's a step-by-step guide to help you get started:\n",
      "\n",
      "**1. Meet the basic requirements:**\n",
      "- **Education:** A bachelor's degree in Computer Science, Mathematics, or a related field is a minimum requirement.\n",
      "- **Programming skills:** Familiarize yourself with programming languages like Python, Java, C++, or R.\n",
      "- **Mathematics:** Basic knowledge of linear algebra, calculus, and probability is necessary.\n",
      "\n",
      "**2. Learn the fundamentals of AI:**\n",
      "- **Machine learning (ML):** Study supervised, unsupervised, and reinforcement learning.\n",
      "- **Deep learning (DL):** Learn about neural networks, convolutional neural networks, and recurrent neural networks.\n",
      "- **Natural language processing (NLP):** Familiarize yourself with text processing, sentiment analysis, and language models.\n",
      "\n",
      "**3. Choose a specialization:**\n",
      "- **Computer vision:** Learn about image processing, object detection, and image segmentation.\n",
      "- **Robotics:** Study robotics, computer vision, and sensor integration.\n",
      "- **Speech recognition:** Learn about speech processing, speech recognition, and speaker identification.\n",
      "- **NLP:** Focus on text processing, sentiment analysis, and language models.\n",
      "\n",
      "**4. Develop essential skills:**\n",
      "- **Programming languages:** Master Python, as it's widely used in AI.\n",
      "- **Frameworks and libraries:** Familiarize yourself with TensorFlow, PyTorch, Keras, or OpenCV.\n",
      "- **Data analysis and visualization:** Learn how to collect, preprocess, and visualize data.\n",
      "- **Version control:** Learn Git and GitHub.\n",
      "\n",
      "**5. Get hands-on experience:**\n",
      "- **Personal projects:** Work on AI-related projects to gain practical experience.\n",
      "- **Kaggle competitions:** Participate in Kaggle competitions to improve your skills and learn from others.\n",
      "- **Open-source projects:** Contribute to open-source AI projects to gain experience working with others.\n",
      "\n",
      "**6. Stay updated with industry trends:**\n",
      "- **Research papers:** Read research papers and articles on AI and ML.\n",
      "- **Conferences and workshops:** Attend conferences and workshops to learn about new developments and network with professionals.\n",
      "- **Online courses and tutorials:** Take online courses and tutorials to stay updated with the latest techniques and tools.\n",
      "\n",
      "**7. Pursue advanced education and certifications:**\n",
      "- **Master's degree:** Consider pursuing a master's degree in AI, ML, or a related field.\n",
      "- **Certifications:** Look for certifications like Certified AI Engineer or Certified Data Scientist.\n",
      "\n",
      "**8. Build a strong portfolio:**\n",
      "- **Showcase your projects:** Create a portfolio that showcases your AI-related projects.\n",
      "- **Highlight your skills:** Emphasize your programming, math, and AI skills.\n",
      "\n",
      "**9. Network and join communities:**\n",
      "- **Join online communities:** Participate in online forums like Reddit's r/MachineLearning and r/AI.\n",
      "- **Attend industry events:** Network with professionals at conferences and workshops.\n",
      "\n",
      "**10. Stay motivated and persistent:**\n",
      "- **Learn from failures:** Don't get discouraged by failures or setbacks.\n",
      "- **Stay curious:** Continuously learn and explore new techniques and tools.\n"
     ]
    }
   ],
   "source": [
    "User_Input = input(\"Enter Your Concern : \")\n",
    "\n",
    "while User_Input != \"exit\":\n",
    "    Agent.invoke({\"messages\": [HumanMessage(content=User_Input)]})\n",
    "    User_Input = input(\"Enter Your Concern : \")"
   ]
  },
  {
   "cell_type": "code",
   "execution_count": null,
   "id": "92d46e68",
   "metadata": {},
   "outputs": [],
   "source": []
  }
 ],
 "metadata": {
  "kernelspec": {
   "display_name": "agentic",
   "language": "python",
   "name": "python3"
  },
  "language_info": {
   "codemirror_mode": {
    "name": "ipython",
    "version": 3
   },
   "file_extension": ".py",
   "mimetype": "text/x-python",
   "name": "python",
   "nbconvert_exporter": "python",
   "pygments_lexer": "ipython3",
   "version": "3.13.6"
  }
 },
 "nbformat": 4,
 "nbformat_minor": 5
}
