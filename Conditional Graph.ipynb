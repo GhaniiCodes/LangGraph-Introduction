{
 "cells": [
  {
   "cell_type": "code",
   "execution_count": 7,
   "id": "13591cad",
   "metadata": {},
   "outputs": [],
   "source": [
    "from langgraph.graph import StateGraph, START, END\n",
    "from typing import TypedDict"
   ]
  },
  {
   "cell_type": "code",
   "execution_count": 8,
   "metadata": {},
   "outputs": [],
   "source": [
    "class AgentState(TypedDict):\n",
    "    Number_1: int\n",
    "    Number_2: int\n",
    "    Operation: str\n",
    "    Result: int"
   ]
  },
  {
   "cell_type": "code",
   "execution_count": null,
   "id": "740acc38",
   "metadata": {},
   "outputs": [],
   "source": [
    "def subtraction(state: AgentState) -> AgentState:\n",
    "    state['Result'] = state['Number_1'] - state['Number_2']\n",
    "    return state\n",
    "\n",
    "def addition(state: AgentState) -> AgentState:\n",
    "    state['Result'] = state['Number_1'] + state['Number_2']\n",
    "    return state\n",
    "\n",
    "def Decide_Next_Node(state: AgentState) -> str:\n",
    "    if state['Operation'] == \"+\":\n",
    "        return \"Addition\"\n",
    "    elif state['Operation'] == \"-\":\n",
    "        return \"Subtraction\"\n",
    "    else:\n",
    "        raise ValueError(\"Unsupported Operation! Use '+' or '-'.\")"
   ]
  },
  {
   "cell_type": "code",
   "execution_count": null,
   "metadata": {},
   "outputs": [],
   "source": [
    "Graph = StateGraph(AgentState)\n",
    "\n",
    "Graph.add_node(\"Subtraction\", subtraction)\n",
    "Graph.add_node(\"Addition\", addition)\n",
    "\n",
    "Graph.add_conditional_edges(\n",
    "    START,\n",
    "    Decide_Next_Node,\n",
    "    {\n",
    "        \"Addition\": \"Addition\",\n",
    "        \"Subtraction\": \"Subtraction\"\n",
    "    }\n",
    ")\n",
    "\n",
    "Graph.add_edge(\"Addition\", END)\n",
    "Graph.add_edge(\"Subtraction\", END)\n",
    "\n",
    "\n",
    "Compiled_Graph = Graph.compile()"
   ]
  },
  {
   "cell_type": "code",
   "execution_count": 16,
   "id": "43eb3e4d",
   "metadata": {},
   "outputs": [
    {
     "data": {
      "text/plain": [
       "{'Number_1': 10, 'Number_2': 5, 'Operation': '+', 'Result': 15}"
      ]
     },
     "execution_count": 16,
     "metadata": {},
     "output_type": "execute_result"
    }
   ],
   "source": [
    "result_add = Compiled_Graph.invoke({\n",
    "    \"Number_1\": 10,\n",
    "    \"Number_2\": 5,\n",
    "    \"Operation\": \"+\"\n",
    "})\n",
    "\n",
    "result_add"
   ]
  },
  {
   "cell_type": "code",
   "execution_count": 17,
   "id": "489d36f6",
   "metadata": {},
   "outputs": [
    {
     "data": {
      "text/plain": [
       "{'Number_1': 10, 'Number_2': 5, 'Operation': '-', 'Result': 5}"
      ]
     },
     "execution_count": 17,
     "metadata": {},
     "output_type": "execute_result"
    }
   ],
   "source": [
    "result_sub = Compiled_Graph.invoke({\n",
    "    \"Number_1\": 10,\n",
    "    \"Number_2\": 5,\n",
    "    \"Operation\": \"-\"\n",
    "})\n",
    "\n",
    "result_sub"
   ]
  },
  {
   "cell_type": "code",
   "execution_count": null,
   "id": "59b2d368",
   "metadata": {},
   "outputs": [],
   "source": []
  }
 ],
 "metadata": {
  "kernelspec": {
   "display_name": "agentic",
   "language": "python",
   "name": "python3"
  },
  "language_info": {
   "codemirror_mode": {
    "name": "ipython",
    "version": 3
   },
   "file_extension": ".py",
   "mimetype": "text/x-python",
   "name": "python",
   "nbconvert_exporter": "python",
   "pygments_lexer": "ipython3",
   "version": "3.13.6"
  }
 },
 "nbformat": 4,
 "nbformat_minor": 5
}
