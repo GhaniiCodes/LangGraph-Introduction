{
 "cells": [
  {
   "cell_type": "code",
   "id": "initial_id",
   "metadata": {
    "collapsed": true,
    "ExecuteTime": {
     "end_time": "2025-09-11T11:46:28.590503Z",
     "start_time": "2025-09-11T11:46:27.732473Z"
    }
   },
   "source": [
    "from typing_extensions import TypedDict\n",
    "import random\n",
    "from typing import Literal\n",
    "from IPython.display import Image,display\n",
    "from langgraph.graph import StateGraph, START,END"
   ],
   "outputs": [],
   "execution_count": 12
  },
  {
   "metadata": {
    "ExecuteTime": {
     "end_time": "2025-09-11T11:28:34.565078Z",
     "start_time": "2025-09-11T11:28:34.559035Z"
    }
   },
   "cell_type": "code",
   "source": [
    "class State(TypedDict):\n",
    "    graph_info: str"
   ],
   "id": "9131b37ee96955e8",
   "outputs": [],
   "execution_count": 5
  },
  {
   "metadata": {
    "ExecuteTime": {
     "end_time": "2025-09-11T11:55:28.460560Z",
     "start_time": "2025-09-11T11:55:28.453273Z"
    }
   },
   "cell_type": "code",
   "source": [
    "def start_play(state:State):\n",
    "    print (\"Start_play node has been called\")\n",
    "    return {\"graph_info\": state[\"graph_info\"] + \"I am planing to play\"}\n",
    "\n",
    "def play_cricket(state:State):\n",
    "    print(\"Cricket node has been called\")\n",
    "    return {\"graph_info\": state[\"graph_info\"] + \"Cricket\"}\n",
    "\n",
    "def play_badminton(state:State):\n",
    "    print(\"Badminton node has been called\")\n",
    "    return {\"graph_info\": state[\"graph_info\"] + \"Badminton\"}"
   ],
   "id": "4ee66f22f2dd70ec",
   "outputs": [],
   "execution_count": 23
  },
  {
   "metadata": {
    "ExecuteTime": {
     "end_time": "2025-09-11T11:55:29.057042Z",
     "start_time": "2025-09-11T11:55:29.049233Z"
    }
   },
   "cell_type": "code",
   "source": [
    "def random_play(state:State)-> Literal[\"cricket\", \"badminton\"]:\n",
    "    graph_info = state[\"graph_info\"]\n",
    "\n",
    "    if random.random() < 0.5:\n",
    "        return play_cricket()\n",
    "    else:\n",
    "        return play_badminton()"
   ],
   "id": "26d3f5732eed808d",
   "outputs": [],
   "execution_count": 24
  },
  {
   "metadata": {
    "ExecuteTime": {
     "end_time": "2025-09-11T11:55:29.631349Z",
     "start_time": "2025-09-11T11:55:29.623363Z"
    }
   },
   "cell_type": "code",
   "source": "Graph = StateGraph(State)",
   "id": "95b707cd70a0663",
   "outputs": [],
   "execution_count": 25
  },
  {
   "metadata": {
    "ExecuteTime": {
     "end_time": "2025-09-11T11:55:30.338199Z",
     "start_time": "2025-09-11T11:55:30.328295Z"
    }
   },
   "cell_type": "code",
   "source": [
    "Graph.add_node(\"Start_play\", start_play)\n",
    "Graph.add_node(\"cricket\", play_cricket)\n",
    "Graph.add_node(\"badminton\", play_badminton)"
   ],
   "id": "816c1ca996a0a9b6",
   "outputs": [
    {
     "data": {
      "text/plain": [
       "<langgraph.graph.state.StateGraph at 0x27cb105ca50>"
      ]
     },
     "execution_count": 26,
     "metadata": {},
     "output_type": "execute_result"
    }
   ],
   "execution_count": 26
  },
  {
   "metadata": {
    "ExecuteTime": {
     "end_time": "2025-09-11T11:55:31.315794Z",
     "start_time": "2025-09-11T11:55:31.305495Z"
    }
   },
   "cell_type": "code",
   "source": [
    "Graph.add_edge(START,\"Start_play\")\n",
    "Graph.add_conditional_edges(\"Start_play\", random_play)\n",
    "Graph.add_edge(\"cricket\",END)\n",
    "Graph.add_edge(\"badminton\",END)"
   ],
   "id": "40ef3ecb902ac2e",
   "outputs": [
    {
     "data": {
      "text/plain": [
       "<langgraph.graph.state.StateGraph at 0x27cb105ca50>"
      ]
     },
     "execution_count": 27,
     "metadata": {},
     "output_type": "execute_result"
    }
   ],
   "execution_count": 27
  },
  {
   "metadata": {
    "ExecuteTime": {
     "end_time": "2025-09-11T11:55:32.200017Z",
     "start_time": "2025-09-11T11:55:32.191481Z"
    }
   },
   "cell_type": "code",
   "source": "Graph_builder = Graph.compile()",
   "id": "b10e4417c5e0a1fd",
   "outputs": [],
   "execution_count": 28
  },
  {
   "metadata": {
    "ExecuteTime": {
     "end_time": "2025-09-11T11:56:17.538415Z",
     "start_time": "2025-09-11T11:56:15.403781Z"
    }
   },
   "cell_type": "code",
   "source": "display(Image(Graph_builder.get_graph().draw_mermaid_png()))",
   "id": "2fd81f80daa238f6",
   "outputs": [
    {
     "data": {
      "image/png": "[encoded data removed]",
      "text/plain": [
       "<IPython.core.display.Image object>"
      ]
     },
     "metadata": {},
     "output_type": "display_data"
    }
   ],
   "execution_count": 29
  },
  {
   "metadata": {},
   "cell_type": "code",
   "outputs": [],
   "execution_count": null,
   "source": "",
   "id": "fe23db66bf899229"
  }
 ],
 "metadata": {
  "kernelspec": {
   "display_name": "Python 3",
   "language": "python",
   "name": "python3"
  },
  "language_info": {
   "codemirror_mode": {
    "name": "ipython",
    "version": 2
   },
   "file_extension": ".py",
   "mimetype": "text/x-python",
   "name": "python",
   "nbconvert_exporter": "python",
   "pygments_lexer": "ipython2",
   "version": "2.7.6"
  }
 },
 "nbformat": 4,
 "nbformat_minor": 5
}
