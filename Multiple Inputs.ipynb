{
 "cells": [
  {
   "cell_type": "code",
   "execution_count": 1,
   "id": "initial_id",
   "metadata": {
    "ExecuteTime": {
     "end_time": "2025-09-24T08:17:20.773829Z",
     "start_time": "2025-09-24T08:17:20.766680Z"
    },
    "collapsed": true
   },
   "outputs": [],
   "source": [
    "from langgraph.graph import StateGraph\n",
    "from typing import TypedDict"
   ]
  },
  {
   "cell_type": "code",
   "execution_count": 2,
   "id": "6cfcaf634b7a9113",
   "metadata": {
    "ExecuteTime": {
     "end_time": "2025-09-24T08:17:21.315304Z",
     "start_time": "2025-09-24T08:17:21.308107Z"
    }
   },
   "outputs": [],
   "source": [
    "class AgentState(TypedDict):\n",
    "    name: str\n",
    "    values: list[int]\n",
    "    result: str"
   ]
  },
  {
   "cell_type": "code",
   "execution_count": 3,
   "id": "28273847353bd59f",
   "metadata": {
    "ExecuteTime": {
     "end_time": "2025-09-24T08:17:21.664925Z",
     "start_time": "2025-09-24T08:17:21.657365Z"
    }
   },
   "outputs": [],
   "source": [
    "def process(state: AgentState) -> AgentState:\n",
    "\n",
    "    state[\"result\"] = f\"{state[\"name\"]} ! Sum of your values is {sum(state[\"values\"])}\"\n",
    "\n",
    "    return state"
   ]
  },
  {
   "cell_type": "code",
   "execution_count": 4,
   "id": "866902714bb94198",
   "metadata": {
    "ExecuteTime": {
     "end_time": "2025-09-24T08:17:22.171970Z",
     "start_time": "2025-09-24T08:17:22.165914Z"
    }
   },
   "outputs": [],
   "source": [
    "Graph = StateGraph(AgentState)"
   ]
  },
  {
   "cell_type": "code",
   "execution_count": null,
   "id": "bb5ec661353da694",
   "metadata": {
    "ExecuteTime": {
     "end_time": "2025-09-24T08:17:22.518966Z",
     "start_time": "2025-09-24T08:17:22.513020Z"
    }
   },
   "outputs": [],
   "source": [
    "Graph.add_node(\"Processer\", process)\n",
    "Graph.set_entry_point(\"Processer\")\n",
    "Graph.set_finish_point(\"Processer\")\n",
    "\n",
    "Compiled_Graph = Graph.compile()"
   ]
  },
  {
   "cell_type": "code",
   "execution_count": 6,
   "id": "1a75436762815c7e",
   "metadata": {
    "ExecuteTime": {
     "end_time": "2025-09-24T08:17:45.274562Z",
     "start_time": "2025-09-24T08:17:45.262892Z"
    }
   },
   "outputs": [
    {
     "name": "stdout",
     "output_type": "stream",
     "text": [
      "{'name': 'Ghani', 'values': [1, 2, 3, 4, 5, 6], 'result': 'Ghani ! Sum of your values is 21'}\n"
     ]
    }
   ],
   "source": [
    "result = Compiled_Graph.invoke({\"name\": \"Ghani\", \"values\": [1, 2, 3, 4, 5, 6]})\n",
    "print(result)"
   ]
  },
  {
   "cell_type": "code",
   "execution_count": null,
   "id": "68297e69",
   "metadata": {},
   "outputs": [],
   "source": []
  }
 ],
 "metadata": {
  "kernelspec": {
   "display_name": "agentic",
   "language": "python",
   "name": "python3"
  },
  "language_info": {
   "codemirror_mode": {
    "name": "ipython",
    "version": 3
   },
   "file_extension": ".py",
   "mimetype": "text/x-python",
   "name": "python",
   "nbconvert_exporter": "python",
   "pygments_lexer": "ipython3",
   "version": "3.13.6"
  }
 },
 "nbformat": 4,
 "nbformat_minor": 5
}
