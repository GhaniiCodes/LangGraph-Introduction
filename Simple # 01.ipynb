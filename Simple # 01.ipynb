{
 "cells": [
  {
   "cell_type": "code",
   "id": "initial_id",
   "metadata": {
    "collapsed": true,
    "ExecuteTime": {
     "end_time": "2025-09-23T08:32:13.124656Z",
     "start_time": "2025-09-23T08:32:13.120622Z"
    }
   },
   "source": [
    "from typing import TypedDict\n",
    "from langgraph.graph import StateGraph"
   ],
   "outputs": [],
   "execution_count": 7
  },
  {
   "metadata": {
    "ExecuteTime": {
     "end_time": "2025-09-23T08:32:13.735331Z",
     "start_time": "2025-09-23T08:32:13.730232Z"
    }
   },
   "cell_type": "code",
   "source": [
    "class AgentState(TypedDict):\n",
    "    message: str"
   ],
   "id": "bf1c89e144139df8",
   "outputs": [],
   "execution_count": 8
  },
  {
   "metadata": {
    "ExecuteTime": {
     "end_time": "2025-09-23T08:32:14.235831Z",
     "start_time": "2025-09-23T08:32:14.230902Z"
    }
   },
   "cell_type": "code",
   "source": [
    "def compliment(state: AgentState) -> AgentState:\n",
    "\n",
    "    state['message'] = state['message'] + \", You are doing a great job, Der khe pr sb.\"\n",
    "    return state"
   ],
   "id": "102adb480d7d7c7e",
   "outputs": [],
   "execution_count": 9
  },
  {
   "metadata": {
    "ExecuteTime": {
     "end_time": "2025-09-23T08:32:14.749689Z",
     "start_time": "2025-09-23T08:32:14.741769Z"
    }
   },
   "cell_type": "code",
   "source": [
    "Graph = StateGraph(AgentState)\n",
    "\n",
    "Graph.add_node(\"compliment\", compliment)\n",
    "Graph.set_entry_point(\"compliment\")\n",
    "Graph.set_finish_point(\"compliment\")\n",
    "\n",
    "Compiled = Graph.compile()"
   ],
   "id": "63a56b50954d2cbb",
   "outputs": [],
   "execution_count": 10
  },
  {
   "metadata": {
    "ExecuteTime": {
     "end_time": "2025-09-23T08:33:18.658640Z",
     "start_time": "2025-09-23T08:33:17.617608Z"
    }
   },
   "cell_type": "code",
   "source": [
    "from IPython.display import display, Image\n",
    "display(Image(Graph.compile().get_graph().draw_mermaid_png()))"
   ],
   "id": "240aabd690726557",
   "outputs": [
    {
     "data": {
      "image/png": "[encoded data removed]",
      "text/plain": [
       "<IPython.core.display.Image object>"
      ]
     },
     "metadata": {},
     "output_type": "display_data"
    }
   ],
   "execution_count": 13
  },
  {
   "metadata": {
    "ExecuteTime": {
     "end_time": "2025-09-23T08:33:30.159579Z",
     "start_time": "2025-09-23T08:33:30.149984Z"
    }
   },
   "cell_type": "code",
   "source": "Compiled.invoke({\"message\": \"Ghani sb\"})",
   "id": "bcb64aea29e0449a",
   "outputs": [
    {
     "data": {
      "text/plain": [
       "{'message': 'Ghani sb, You are doing a great job, Der khe pr sb.'}"
      ]
     },
     "execution_count": 14,
     "metadata": {},
     "output_type": "execute_result"
    }
   ],
   "execution_count": 14
  },
  {
   "metadata": {},
   "cell_type": "code",
   "outputs": [],
   "execution_count": null,
   "source": "",
   "id": "f066a26f290b2702"
  }
 ],
 "metadata": {
  "kernelspec": {
   "display_name": "Python 3",
   "language": "python",
   "name": "python3"
  },
  "language_info": {
   "codemirror_mode": {
    "name": "ipython",
    "version": 2
   },
   "file_extension": ".py",
   "mimetype": "text/x-python",
   "name": "python",
   "nbconvert_exporter": "python",
   "pygments_lexer": "ipython2",
   "version": "2.7.6"
  }
 },
 "nbformat": 4,
 "nbformat_minor": 5
}
